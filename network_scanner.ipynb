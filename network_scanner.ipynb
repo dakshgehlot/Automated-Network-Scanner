{
 "cells": [
  {
   "cell_type": "code",
   "execution_count": 1,
   "metadata": {},
   "outputs": [],
   "source": [
    "# Function to run shell commands\n",
    "def run_command(command):\n",
    "    try:\n",
    "        result = subprocess.run(command, shell=True, text=True, capture_output=True)\n",
    "        return result.stdout\n",
    "    except Exception as e:\n",
    "        return str(e)"
   ]
  },
  {
   "cell_type": "code",
   "execution_count": 2,
   "metadata": {},
   "outputs": [],
   "source": [
    "# Function to perform whois\n",
    "def whois_scan(target):\n",
    "    print(\"Running whois...\")\n",
    "    return run_command(f\"whois {target}\")"
   ]
  },
  {
   "cell_type": "code",
   "execution_count": 3,
   "metadata": {},
   "outputs": [],
   "source": [
    "# Function to perform nslookup\n",
    "def nslookup_scan(target):\n",
    "    print(\"Running nslookup...\")\n",
    "    return run_command(f\"nslookup {target}\")"
   ]
  },
  {
   "cell_type": "code",
   "execution_count": 4,
   "metadata": {},
   "outputs": [],
   "source": [
    "# Function to run whatweb\n",
    "def whatweb_scan(target):\n",
    "    print(\"Running whatweb...\")\n",
    "    return run_command(f\"whatweb {target}\")"
   ]
  },
  {
   "cell_type": "code",
   "execution_count": 5,
   "metadata": {},
   "outputs": [],
   "source": [
    "# Function to perform harvester\n",
    "def harvester_scan(target):\n",
    "    print(\"Running harvester...\")\n",
    "    return run_command(f\"theHarvester -d {target} -l 500 -b all\")"
   ]
  },
  {
   "cell_type": "code",
   "execution_count": 6,
   "metadata": {},
   "outputs": [],
   "source": [
    "# Function to perform sublist3r\n",
    "def sublist3r_scan(target):\n",
    "    print(\"Running sublist3r...\")\n",
    "    return run_command(f\"sublist3r -d {target}\")"
   ]
  },
  {
   "cell_type": "code",
   "execution_count": 7,
   "metadata": {},
   "outputs": [],
   "source": [
    "# Main function\n",
    "def network_scan(target):\n",
    "    print(f\"Scanning {target}...\\n\")\n",
    "\n",
    "    # Perform all scans\n",
    "    whois_result = whois_scan(target)\n",
    "    nslookup_result = nslookup_scan(target)\n",
    "    whatweb_result = whatweb_scan(target)\n",
    "    harvester_result = harvester_scan(target)\n",
    "    sublist3r_result = sublist3r_scan(target)\n",
    "\n",
    "    # Print the results\n",
    "    print(\"\\nWHOIS Result:\\n\", whois_result)\n",
    "    print(\"\\nNSLOOKUP Result:\\n\", nslookup_result)\n",
    "    print(\"\\nWHATWEB Result:\\n\", whatweb_result)\n",
    "    print(\"\\nHarvester Result:\\n\", harvester_result)\n",
    "    print(\"\\nSublist3r Result:\\n\", sublist3r_result)"
   ]
  },
  {
   "cell_type": "code",
   "execution_count": null,
   "metadata": {},
   "outputs": [],
   "source": [
    "# # Input the website/domain name\n",
    "# if __name__ == \"__main__\":\n",
    "#     target = input(\"Enter the website/domain to scan: \")\n",
    "#     network_scan(target)\n",
    "\n",
    "# Input the website/domain name\n",
    "target = input(\"Enter the website/domain to scan: \")\n",
    "network_scan(target)"
   ]
  }
 ],
 "metadata": {
  "kernelspec": {
   "display_name": "Python 3",
   "language": "python",
   "name": "python3"
  },
  "language_info": {
   "codemirror_mode": {
    "name": "ipython",
    "version": 3
   },
   "file_extension": ".py",
   "mimetype": "text/x-python",
   "name": "python",
   "nbconvert_exporter": "python",
   "pygments_lexer": "ipython3",
   "version": "3.11.4"
  }
 },
 "nbformat": 4,
 "nbformat_minor": 2
}
