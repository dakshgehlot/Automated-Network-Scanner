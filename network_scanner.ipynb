{
 "cells": [
  {
   "cell_type": "code",
   "execution_count": 1,
   "metadata": {},
   "outputs": [],
   "source": [
    "import subprocess\n",
    "import re"
   ]
  },
  {
   "cell_type": "code",
   "execution_count": 2,
   "metadata": {},
   "outputs": [],
   "source": [
    "# Function to run shell commands\n",
    "def run_command(command):\n",
    "    try:\n",
    "        result = subprocess.run(command, shell=True, text=True, capture_output=True)\n",
    "        return result.stdout\n",
    "    except Exception as e:\n",
    "        return str(e)"
   ]
  },
  {
   "cell_type": "code",
   "execution_count": 3,
   "metadata": {},
   "outputs": [],
   "source": [
    "# Function to perform whois\n",
    "def whois_scan(target):\n",
    "    print(\"Running whois...\")\n",
    "    whois_output = run_command(f\"whois {target}\")\n",
    "\n",
    "    # Extract from \"Domain Name\" onwards using regex\n",
    "    match = re.search(r\"Domain Name:*\", whois_output)\n",
    "\n",
    "    if match:\n",
    "        # Extract the portion starting from \"Domain Name\"\n",
    "        return whois_output[match.start():]\n",
    "    else:\n",
    "        return \"No 'Domain Name' section found in the whois data.\"\n"
   ]
  },
  {
   "cell_type": "code",
   "execution_count": 4,
   "metadata": {},
   "outputs": [],
   "source": [
    "# Function to perform nslookup\n",
    "def nslookup_scan(target):\n",
    "    print(\"Running nslookup...\")\n",
    "    return run_command(f\"nslookup {target}\")"
   ]
  },
  {
   "cell_type": "code",
   "execution_count": 5,
   "metadata": {},
   "outputs": [],
   "source": [
    "# Function to run whatweb\n",
    "def whatweb_scan(target):\n",
    "    print(\"Running whatweb...\")\n",
    "    return run_command(f\"whatweb {target}\")"
   ]
  },
  {
   "cell_type": "code",
   "execution_count": 6,
   "metadata": {},
   "outputs": [],
   "source": [
    "# Function to perform harvester\n",
    "def harvester_scan(target):\n",
    "    print(\"Running harvester...\")\n",
    "    harvester_output = run_command(f\"theHarvester -d {target} -l 500 -b yahoo\")\n",
    "\n",
    "    # Extract from \"Domain Name\" onwards using regex\n",
    "    match = re.search(r\"\\[\\*\\] Target:*\", harvester_output)\n",
    "\n",
    "    if match:\n",
    "        # Extract the portion starting from \"Domain Name\"\n",
    "        return harvester_output[match.start():]\n",
    "    else:\n",
    "        return \"No 'Domain Name' section found in the whois data.\""
   ]
  },
  {
   "cell_type": "code",
   "execution_count": 8,
   "metadata": {},
   "outputs": [],
   "source": [
    "# Function to perform nmap host discovery\n",
    "def nmap_host_discovery(target):\n",
    "    print(\"Running nmap host discovery...\")\n",
    "    return run_command(f\"nmap -PE -sn {target}\")"
   ]
  },
  {
   "cell_type": "code",
   "execution_count": 9,
   "metadata": {},
   "outputs": [],
   "source": [
    "# Function to perform nmap port scanning\n",
    "def nmap_port_scanning(target):\n",
    "    print(\"Running nmap port scanning...\")\n",
    "    return run_command(f\"nmap -p 80 {target}\")"
   ]
  },
  {
   "cell_type": "code",
   "execution_count": 35,
   "metadata": {},
   "outputs": [],
   "source": [
    "# Main function\n",
    "def network_scan(target):\n",
    "    print(f\"Scanning {target}...\\n\")\n",
    "\n",
    "    # Perform all scans\n",
    "    whois_result = whois_scan(target)\n",
    "    nslookup_result = nslookup_scan(target)\n",
    "    whatweb_result = whatweb_scan(target)\n",
    "    harvester_result = harvester_scan(target)\n",
    "    nmap_host_discovery_result = nmap_host_discovery(target)\n",
    "    nmap_port_scanning_result = nmap_port_scanning(target)\n",
    "\n",
    "    # Print the results\n",
    "    print(\"\\n\\n=================================\\n\\n\")\n",
    "    print(\"\\nWHOIS Result:\\n\\n\", whois_result)\n",
    "    print(\"\\n\\n=================================\\n\\n\")\n",
    "    print(\"\\nNSLOOKUP Result:\\n\\n\", nslookup_result)\n",
    "    print(\"\\n\\n=================================\\n\\n\")\n",
    "    print(\"\\nWHATWEB Result:\\n\\n\", whatweb_result)\n",
    "    print(\"\\n\\n=================================\\n\\n\")\n",
    "    print(\"\\nHarvester Result:\\n\\n\", harvester_result)\n",
    "    print(\"\\n\\n=================================\\n\\n\")\n",
    "    print(\"\\nNMap Host Discovery Result:\\n\\n\", nmap_host_discovery_result)\n",
    "    print(\"\\n\\n=================================\\n\\n\")\n",
    "    print(\"\\nNMap Port Scanning Result:\\n\\n\", nmap_port_scanning_result)\n",
    "    print(\"\\n\\n=================================\\n\\n\")"
   ]
  },
  {
   "cell_type": "code",
   "execution_count": null,
   "metadata": {},
   "outputs": [],
   "source": [
    "# # Input the website/domain name\n",
    "# if __name__ == \"__main__\":\n",
    "#     target = input(\"Enter the website/domain to scan: \")\n",
    "#     network_scan(target)\n",
    "\n",
    "# Input the website/domain name\n",
    "target = input(\"Enter the website/domain to scan: \")\n",
    "network_scan(target)"
   ]
  },
  {
   "cell_type": "code",
   "execution_count": null,
   "metadata": {},
   "outputs": [],
   "source": []
  }
 ],
 "metadata": {
  "kernelspec": {
   "display_name": "Python 3",
   "language": "python",
   "name": "python3"
  },
  "language_info": {
   "codemirror_mode": {
    "name": "ipython",
    "version": 3
   },
   "file_extension": ".py",
   "mimetype": "text/x-python",
   "name": "python",
   "nbconvert_exporter": "python",
   "pygments_lexer": "ipython3",
   "version": "3.11.9"
  }
 },
 "nbformat": 4,
 "nbformat_minor": 2
}
